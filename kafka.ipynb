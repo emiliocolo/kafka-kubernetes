{
 "cells": [
  {
   "cell_type": "code",
   "execution_count": 35,
   "source": [
    "%%bash\n",
    "#https://strimzi.io/quickstarts/\n",
    "#https://snourian.com/kafka-kubernetes-strimzi-part-3-monitoring-strimzi-kafka-with-prometheus-grafana/\n",
    "#https://github.com/nrsina/strimzi-kafka-tutorial/tree/master/kafka-deployment\n",
    "#https://strimzi.io/docs/operators/latest/deploying.html#proc-metrics-grafana-dashboard-str\n",
    "# https://snourian.com/kafka-kubernetes-strimzi-part-3-monitoring-strimzi-kafka-with-prometheus-grafana/\n",
    "\n",
    "# Kubernetes Cluster\n",
    "KUBECONFIG=../CLUSTERS/mac.txt\n",
    "#kubectl create namespace kafka\n",
    "#kubectl create -f 'https://strimzi.io/install/latest?namespace=kafka' -n kafka\n",
    "#kubectl create -f my-cluster-metrics.yaml -n kafka \n",
    "\n",
    "#kubectl wait kafka/my-cluster-metrics --for=condition=Ready --timeout=300s -n kafka \n"
   ],
   "outputs": [
    {
     "output_type": "stream",
     "name": "stdout",
     "text": [
      "kafka.kafka.strimzi.io/my-cluster-metrics created\n",
      "configmap/kafka-metrics created\n"
     ]
    }
   ],
   "metadata": {}
  },
  {
   "cell_type": "markdown",
   "source": [
    "# Monitoring"
   ],
   "metadata": {}
  },
  {
   "cell_type": "code",
   "execution_count": 67,
   "source": [
    "%%bash\n",
    "#helm repo add prometheus-community https://prometheus-community.github.io/helm-charts\n",
    "#helm repo update\n",
    "#helm install monitoring prometheus-community/kube-prometheus-stack -n monitoring --create-namespace\n",
    "\n",
    "#kubectl delete secret  additional-scrape-configs -n monitoring\n",
    "\n",
    "#curl -s https://raw.githubusercontent.com/coreos/prometheus-operator/master/bundle.yaml | sed -e '/[[:space:]]*namespace: [a-zA-Z0-9-]*$/s/namespace:[[:space:]]*[a-zA-Z0-9-]*$/namespace: monitoring/' > prometheus-operator-deployment.yaml\n",
    "#kubectl apply -f prometheus-operator-deployment.yaml\n",
    "\n",
    "#sed -i 's/namespace: .*/namespace: monitoring/' prometheus.yaml\n",
    "\n",
    "kubectl apply -f prometheus-additional.yaml -n monitoring\n",
    "kubectl apply -f strimzi-pod-monitor.yaml -n monitoring\n",
    "kubectl apply -f prometheus-rules.yaml -n monitoring\n",
    "kubectl apply -f prometheus.yaml -n monitoring\n",
    "kubectl apply -f grafana.yaml -n monitoring\n"
   ],
   "outputs": [
    {
     "output_type": "stream",
     "name": "stdout",
     "text": [
      "secret/additional-scrape-configs configured\n",
      "podmonitor.monitoring.coreos.com/cluster-operator-metrics unchanged\n",
      "podmonitor.monitoring.coreos.com/entity-operator-metrics unchanged\n",
      "podmonitor.monitoring.coreos.com/bridge-metrics unchanged\n",
      "podmonitor.monitoring.coreos.com/kafka-resources-metrics unchanged\n",
      "prometheusrule.monitoring.coreos.com/prometheus-k8s-rules unchanged\n",
      "clusterrole.rbac.authorization.k8s.io/prometheus-server unchanged\n",
      "serviceaccount/prometheus-server unchanged\n",
      "clusterrolebinding.rbac.authorization.k8s.io/prometheus-server unchanged\n",
      "prometheus.monitoring.coreos.com/prometheus unchanged\n",
      "deployment.apps/grafana created\n",
      "service/grafana created\n"
     ]
    }
   ],
   "metadata": {}
  }
 ],
 "metadata": {
  "orig_nbformat": 4,
  "language_info": {
   "name": "python",
   "version": "3.8.5",
   "mimetype": "text/x-python",
   "codemirror_mode": {
    "name": "ipython",
    "version": 3
   },
   "pygments_lexer": "ipython3",
   "nbconvert_exporter": "python",
   "file_extension": ".py"
  },
  "kernelspec": {
   "name": "python3",
   "display_name": "Python 3.8.5 64-bit ('base': conda)"
  },
  "interpreter": {
   "hash": "a2d1abb0f267c2cba858968164db9ddf2bb61f08d72a12f86344fdb6e2ea320c"
  }
 },
 "nbformat": 4,
 "nbformat_minor": 2
}