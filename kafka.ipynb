{
 "cells": [
  {
   "cell_type": "code",
   "execution_count": 35,
   "source": [
    "%%bash\n",
    "#https://strimzi.io/quickstarts/\n",
    "#https://snourian.com/kafka-kubernetes-strimzi-part-3-monitoring-strimzi-kafka-with-prometheus-grafana/\n",
    "#https://github.com/nrsina/strimzi-kafka-tutorial/tree/master/kafka-deployment\n",
    "#https://strimzi.io/docs/operators/latest/deploying.html#proc-metrics-grafana-dashboard-str\n",
    "# Kubernetes Cluster\n",
    "KUBECONFIG=../CLUSTERS/mac.txt\n",
    "#kubectl config view\n",
    "#kubectl get nodes\n",
    "#wget https://strimzi.io/examples/latest/kafka/kafka-persistent-single.yaml\n",
    "#kubectl create namespace kafka\n",
    "#kubectl create -f 'https://strimzi.io/install/latest?namespace=kafka' -n kafka\n",
    "#kubectl delete -f kafka-persistent-single.yaml -n kafka \n",
    "kubectl create -f my-cluster-metrics.yaml -n kafka \n",
    "\n",
    "#kubectl wait kafka/my-cluster-metrics --for=condition=Ready --timeout=300s -n kafka \n"
   ],
   "outputs": [
    {
     "output_type": "stream",
     "name": "stdout",
     "text": [
      "kafka.kafka.strimzi.io/my-cluster-metrics created\n",
      "configmap/kafka-metrics created\n"
     ]
    }
   ],
   "metadata": {}
  },
  {
   "cell_type": "code",
   "execution_count": null,
   "source": [
    "%%bash\n",
    "# Send\n",
    "kubectl -n kafka run kafka-producer -ti --image=quay.io/strimzi/kafka:0.25.0-kafka-2.8.0 --rm=true --restart=Never -- bin/kafka-console-producer.sh --broker-list my-cluster-kafka-bootstrap:9092 --topic my-topic\n",
    "# Receive\n",
    "kubectl -n kafka run kafka-consumer -ti --image=quay.io/strimzi/kafka:0.25.0-kafka-2.8.0 --rm=true --restart=Never -- bin/kafka-console-consumer.sh --bootstrap-server my-cluster-kafka-bootstrap:9092 --topic my-topic --from-beginning"
   ],
   "outputs": [],
   "metadata": {}
  },
  {
   "cell_type": "markdown",
   "source": [
    "# Monitoring"
   ],
   "metadata": {}
  },
  {
   "cell_type": "code",
   "execution_count": 67,
   "source": [
    "%%bash\n",
    "# https://snourian.com/kafka-kubernetes-strimzi-part-3-monitoring-strimzi-kafka-with-prometheus-grafana/\n",
    "# Monitoring https://github.com/prometheus-community/helm-charts/blob/main/charts/kube-prometheus-stack/values.yaml\n",
    "#helm repo add prometheus-community https://prometheus-community.github.io/helm-charts\n",
    "#https://strimzi.io/docs/operators/latest/deploying.html#proc-metrics-grafana-dashboard-str\n",
    "#helm repo update\n",
    "#helm install monitoring prometheus-community/kube-prometheus-stack -n monitoring --create-namespace\n",
    "\n",
    "#kubectl delete secret  additional-scrape-configs -n monitoring\n",
    "\n",
    "#curl -s https://raw.githubusercontent.com/coreos/prometheus-operator/master/bundle.yaml | sed -e '/[[:space:]]*namespace: [a-zA-Z0-9-]*$/s/namespace:[[:space:]]*[a-zA-Z0-9-]*$/namespace: monitoring/' > prometheus-operator-deployment.yaml\n",
    "#kubectl apply -f prometheus-operator-deployment.yaml\n",
    "\n",
    "#sed -i 's/namespace: .*/namespace: monitoring/' prometheus.yaml\n",
    "\n",
    "kubectl apply -f prometheus-additional.yaml -n monitoring\n",
    "kubectl apply -f strimzi-pod-monitor.yaml -n monitoring\n",
    "kubectl apply -f prometheus-rules.yaml -n monitoring\n",
    "kubectl apply -f prometheus.yaml -n monitoring\n",
    "kubectl apply -f grafana.yaml -n monitoring\n"
   ],
   "outputs": [
    {
     "output_type": "stream",
     "name": "stdout",
     "text": [
      "secret/additional-scrape-configs configured\n",
      "podmonitor.monitoring.coreos.com/cluster-operator-metrics unchanged\n",
      "podmonitor.monitoring.coreos.com/entity-operator-metrics unchanged\n",
      "podmonitor.monitoring.coreos.com/bridge-metrics unchanged\n",
      "podmonitor.monitoring.coreos.com/kafka-resources-metrics unchanged\n",
      "prometheusrule.monitoring.coreos.com/prometheus-k8s-rules unchanged\n",
      "clusterrole.rbac.authorization.k8s.io/prometheus-server unchanged\n",
      "serviceaccount/prometheus-server unchanged\n",
      "clusterrolebinding.rbac.authorization.k8s.io/prometheus-server unchanged\n",
      "prometheus.monitoring.coreos.com/prometheus unchanged\n",
      "deployment.apps/grafana created\n",
      "service/grafana created\n"
     ]
    }
   ],
   "metadata": {}
  },
  {
   "cell_type": "code",
   "execution_count": null,
   "source": [
    "# Grafana Dashboards\n",
    "https://grafana.com/grafana/dashboards/10000\n",
    "https://github.com/pivotal-cf/charts-grafana\n",
    "# Disk\n",
    "https://grafana.com/grafana/dashboards/13646\n",
    "https://grafana.com/grafana/dashboards/12740"
   ],
   "outputs": [],
   "metadata": {}
  },
  {
   "cell_type": "markdown",
   "source": [
    "# Performance\n",
    "https://medium.com/metrosystemsro/apache-kafka-how-to-test-performance-for-clients-configured-with-ssl-encryption-3356d3a0d52b"
   ],
   "metadata": {}
  }
 ],
 "metadata": {
  "orig_nbformat": 4,
  "language_info": {
   "name": "python",
   "version": "3.8.5",
   "mimetype": "text/x-python",
   "codemirror_mode": {
    "name": "ipython",
    "version": 3
   },
   "pygments_lexer": "ipython3",
   "nbconvert_exporter": "python",
   "file_extension": ".py"
  },
  "kernelspec": {
   "name": "python3",
   "display_name": "Python 3.8.5 64-bit ('base': conda)"
  },
  "interpreter": {
   "hash": "a2d1abb0f267c2cba858968164db9ddf2bb61f08d72a12f86344fdb6e2ea320c"
  }
 },
 "nbformat": 4,
 "nbformat_minor": 2
}